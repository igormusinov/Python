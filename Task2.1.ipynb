{
 "metadata": {
  "name": ""
 },
 "nbformat": 3,
 "nbformat_minor": 0,
 "worksheets": [
  {
   "cells": [
    {
     "cell_type": "code",
     "collapsed": false,
     "input": [
      "class Prog:\n",
      "    def read_array(self, string):\n",
      "        out = []\n",
      "        out = string.split(\" \")\n",
      "        out = map(int, out)\n",
      "        return out\n",
      "    \n",
      "    \n",
      "    def maxim(self, array, x, y):\n",
      "        ans = array[x]\n",
      "        summ = 0\n",
      "        for index in range(x, y + 1):\n",
      "            summ = summ + array[index]\n",
      "            ans = max (ans, summ)\n",
      "            summ = max (summ, 0)\n",
      "        print ans\n",
      "        return 0\n",
      "\n",
      "    \n",
      "prog = Prog()\n",
      "num_array = input()\n",
      "string = raw_input()\n",
      "array = prog.read_array(string)\n",
      "num_command = input()\n",
      "\n",
      "for i in range(0, num_command): \n",
      "    string = raw_input()\n",
      "    command = prog.read_array(string)\n",
      "\n",
      "    if command[0] == 0:\n",
      "            array[command[1] - 1] = command[2]\n",
      "    if command[0] == 1:\n",
      "            prog.maxim(array, command[1] - 1, command[2] - 1)\n",
      "\n"
     ],
     "language": "python",
     "metadata": {},
     "outputs": [
      {
       "name": "stdout",
       "output_type": "stream",
       "stream": "stdout",
       "text": [
        "3\n"
       ]
      },
      {
       "name": "stdout",
       "output_type": "stream",
       "stream": "stdout",
       "text": [
        "1 2 3\n"
       ]
      },
      {
       "name": "stdout",
       "output_type": "stream",
       "stream": "stdout",
       "text": [
        "2\n"
       ]
      },
      {
       "name": "stdout",
       "output_type": "stream",
       "stream": "stdout",
       "text": [
        "1 1 2\n"
       ]
      },
      {
       "output_type": "stream",
       "stream": "stdout",
       "text": [
        "3\n"
       ]
      },
      {
       "name": "stdout",
       "output_type": "stream",
       "stream": "stdout",
       "text": [
        "1 2 3\n"
       ]
      },
      {
       "output_type": "stream",
       "stream": "stdout",
       "text": [
        "5\n"
       ]
      }
     ],
     "prompt_number": 36
    }
   ],
   "metadata": {}
  }
 ]
}