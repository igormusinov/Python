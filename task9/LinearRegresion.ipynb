{
 "metadata": {
  "name": ""
 },
 "nbformat": 3,
 "nbformat_minor": 0,
 "worksheets": [
  {
   "cells": [
    {
     "cell_type": "code",
     "collapsed": false,
     "input": [
      "\n",
      "import statsmodels.api as sm\n",
      "import numpy as np\n",
      "import pandas as pd\n",
      "import pylab as pl\n",
      "\n",
      "\n",
      "valD = pd.read_csv('validation_model_data.csv')\n",
      "trD = pd.read_csv('train_model_data.csv')\n",
      "\n",
      "trD = trD[['key', 'plays', 'pctmale', 'age', 'account_age', 'cluster']]\n",
      "##delete NULL values\n",
      "trD = trD.dropna(how = 'any')\n",
      "##extract colomns\n",
      "cluster = trD['cluster']\n",
      "plays = trD['plays']\n",
      "age = trD['age']\n",
      "pctmale = trD['pctmale']\n",
      "acc_age = trD['account_age']\n",
      "\n",
      "##dependence variable\n",
      "y = np.matrix(plays).transpose()\n",
      "##indepence var\n",
      "x1 = np.matrix(cluster).transpose()\n",
      "x2 = np.matrix(age).transpose()\n",
      "x3 = np.matrix(pctmale).transpose()\n",
      "x4 = np.matrix(acc_age).transpose()\n",
      "##use linear regression\n",
      "x = np.column_stack([x1, x2, x3, x4])\n",
      "X = sm.add_constant(x)\n",
      "model = sm.OLS(y, X)\n",
      "##calculate parameters\n",
      "f = model.fit()\n",
      "\n",
      "print 'Coefficients: ', f.params[0:4]\n",
      "print 'Intercept: ', f.params[4]\n",
      "print 'P-Values: ', f.pvalues\n",
      "print 'R-Squared: ', f.rsquared"
     ],
     "language": "python",
     "metadata": {},
     "outputs": [
      {
       "output_type": "stream",
       "stream": "stdout",
       "text": [
        "Coefficients:  [ 161.51455747    1.20760958   -1.84486591  -25.02511789]\n",
        "Intercept:  -0.019632017076\n",
        "P-Values:  [  0.00000000e+00   7.81829340e-56   5.36719215e-73   6.38456871e-45\n",
        "   7.24423346e-15]\n",
        "R-Squared:  0.010172732431\n"
       ]
      }
     ],
     "prompt_number": 39
    },
    {
     "cell_type": "code",
     "collapsed": false,
     "input": [
      "\n",
      "\n",
      "\n",
      "valD = valD[['key', 'plays', 'pctmale', 'age', 'account_age', 'cluster']]\n",
      "##delete NULL values\n",
      "valD = valD.dropna(how = 'any')\n",
      "##extract colomns\n",
      "cluster = valD['cluster']\n",
      "plays = valD['plays']\n",
      "age = valD['age']\n",
      "pctmale = valD['pctmale']\n",
      "acc_age = valD['account_age']\n",
      "\n",
      "##dependence variable\n",
      "y = np.matrix(plays).transpose()\n",
      "##indepence var\n",
      "x1 = np.matrix(cluster).transpose()\n",
      "x2 = np.matrix(age).transpose()\n",
      "x3 = np.matrix(pctmale).transpose()\n",
      "x4 = np.matrix(acc_age).transpose()\n",
      "\n",
      "##use linear regression\n",
      "x = np.column_stack([x1, x2, x3, x4])\n",
      "X = sm.add_constant(x)\n",
      "model = sm.OLS(y, X)\n",
      "##calculate parameters\n",
      "f = model.fit()\n",
      "\n",
      "print 'Coefficients:', f.params[0:4]\n",
      "print 'Intercept:', f.params[4]\n",
      "print 'P-Values:', f.pvalues\n",
      "print 'R-Squared:', f.rsquared"
     ],
     "language": "python",
     "metadata": {},
     "outputs": [
      {
       "output_type": "stream",
       "stream": "stdout",
       "text": [
        "Coefficients: [ 137.4784795     0.44574187   -0.46031455  -20.72444406]\n",
        "Intercept: -0.0489926602761\n",
        "P-Values: [  8.96912113e-184   3.21648505e-005   2.68789117e-003   6.00284248e-017\n",
        "   5.57816477e-070]\n",
        "R-Squared: 0.024708299034\n"
       ]
      }
     ],
     "prompt_number": 37
    },
    {
     "cell_type": "code",
     "collapsed": false,
     "input": [
      "##work better ?\n",
      "\n",
      "trD = trD[['key', 'plays', 'pctmale', 'age', 'account_age', 'cluster']]\n",
      "trD = trD.dropna(how = 'any')\n",
      "cluster = trD['cluster']\n",
      "plays = trD['plays']\n",
      "age = trD['age']\n",
      "pctmale = trD['pctmale']\n",
      "acc_age = trD['account_age']\n",
      "\n",
      "y = np.matrix(plays).transpose()\n",
      "x1 = np.matrix(cluster).transpose()\n",
      "x2 = np.matrix(age).transpose()\n",
      "x3 = np.matrix(pctmale).transpose()\n",
      "x4 = np.matrix(acc_age).transpose()\n",
      "\n",
      "x = np.column_stack([x1, x2, x3, x4])\n",
      "X = sm.add_constant(x)\n",
      "model = sm.OLS(np.log(y), X)\n",
      "f = model.fit()\n",
      "\n",
      "print 'Coefficients: ', f.params[0:4]\n",
      "print 'Intercept: ', f.params[4]\n",
      "print 'P-Values: ', f.pvalues\n",
      "print 'R-Squared: ', f.rsquared"
     ],
     "language": "python",
     "metadata": {},
     "outputs": [
      {
       "output_type": "stream",
       "stream": "stdout",
       "text": [
        "Coefficients:  [ 4.63554146  0.00594817 -0.01265752 -0.17642003]\n",
        "Intercept:  -0.000102111748684\n",
        "P-Values:  [  0.00000000e+000   2.12265005e-051   2.50783766e-128   8.73049902e-083\n",
        "   3.52048997e-015]\n",
        "R-Squared:  0.0149672597469\n"
       ]
      }
     ],
     "prompt_number": 38
    },
    {
     "cell_type": "code",
     "collapsed": false,
     "input": [],
     "language": "python",
     "metadata": {},
     "outputs": []
    }
   ],
   "metadata": {}
  }
 ]
}